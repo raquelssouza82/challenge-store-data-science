{
  "nbformat": 4,
  "nbformat_minor": 0,
  "metadata": {
    "colab": {
      "provenance": [],
      "include_colab_link": true
    },
    "kernelspec": {
      "name": "python3",
      "display_name": "Python 3"
    },
    "language_info": {
      "name": "python"
    }
  },
  "cells": [
    {
      "cell_type": "markdown",
      "metadata": {
        "id": "view-in-github",
        "colab_type": "text"
      },
      "source": [
        "<a href=\"https://colab.research.google.com/github/raquelssouza82/challenge-store-data-science/blob/main/AluraStoreBr.ipynb\" target=\"_parent\"><img src=\"https://colab.research.google.com/assets/colab-badge.svg\" alt=\"Open In Colab\"/></a>"
      ]
    },
    {
      "cell_type": "markdown",
      "source": [
        "### Importação dos dados\n",
        "\n"
      ],
      "metadata": {
        "id": "RhEdWd9YUR6H"
      }
    },
    {
      "cell_type": "code",
      "execution_count": 2,
      "metadata": {
        "colab": {
          "base_uri": "https://localhost:8080/",
          "height": 206
        },
        "id": "T3EvaeQ_INIL",
        "outputId": "4aac432c-efbe-4fa8-8169-684405dc3ae7"
      },
      "outputs": [
        {
          "output_type": "execute_result",
          "data": {
            "text/plain": [
              "                 Produto Categoria do Produto    Preço      Frete  \\\n",
              "0     Assistente virtual          eletronicos   219.08   9.249790   \n",
              "1         Mesa de jantar               moveis   256.35  11.234305   \n",
              "2      Jogo de tabuleiro           brinquedos   279.51  21.262681   \n",
              "3            Micro-ondas     eletrodomesticos  1009.99  54.667344   \n",
              "4  Cadeira de escritório               moveis   446.99  26.964689   \n",
              "\n",
              "  Data da Compra        Vendedor Local da compra  Avaliação da compra  \\\n",
              "0     16/01/2021     Pedro Gomes              SP                    4   \n",
              "1     18/05/2022  Beatriz Moraes              RJ                    1   \n",
              "2     15/03/2021      João Souza              DF                    1   \n",
              "3     03/05/2022      João Souza              RS                    4   \n",
              "4     07/11/2020   Larissa Alves              MG                    5   \n",
              "\n",
              "  Tipo de pagamento  Quantidade de parcelas    lat    lon  \n",
              "0    cartao_credito                       8 -22.19 -48.79  \n",
              "1    cartao_credito                       4 -22.25 -42.66  \n",
              "2    cartao_credito                       1 -15.83 -47.86  \n",
              "3            boleto                       1 -30.17 -53.50  \n",
              "4            boleto                       1 -18.10 -44.38  "
            ],
            "text/html": [
              "\n",
              "  <div id=\"df-3d7ee65c-f00a-4561-82ae-cb31f98c290f\" class=\"colab-df-container\">\n",
              "    <div>\n",
              "<style scoped>\n",
              "    .dataframe tbody tr th:only-of-type {\n",
              "        vertical-align: middle;\n",
              "    }\n",
              "\n",
              "    .dataframe tbody tr th {\n",
              "        vertical-align: top;\n",
              "    }\n",
              "\n",
              "    .dataframe thead th {\n",
              "        text-align: right;\n",
              "    }\n",
              "</style>\n",
              "<table border=\"1\" class=\"dataframe\">\n",
              "  <thead>\n",
              "    <tr style=\"text-align: right;\">\n",
              "      <th></th>\n",
              "      <th>Produto</th>\n",
              "      <th>Categoria do Produto</th>\n",
              "      <th>Preço</th>\n",
              "      <th>Frete</th>\n",
              "      <th>Data da Compra</th>\n",
              "      <th>Vendedor</th>\n",
              "      <th>Local da compra</th>\n",
              "      <th>Avaliação da compra</th>\n",
              "      <th>Tipo de pagamento</th>\n",
              "      <th>Quantidade de parcelas</th>\n",
              "      <th>lat</th>\n",
              "      <th>lon</th>\n",
              "    </tr>\n",
              "  </thead>\n",
              "  <tbody>\n",
              "    <tr>\n",
              "      <th>0</th>\n",
              "      <td>Assistente virtual</td>\n",
              "      <td>eletronicos</td>\n",
              "      <td>219.08</td>\n",
              "      <td>9.249790</td>\n",
              "      <td>16/01/2021</td>\n",
              "      <td>Pedro Gomes</td>\n",
              "      <td>SP</td>\n",
              "      <td>4</td>\n",
              "      <td>cartao_credito</td>\n",
              "      <td>8</td>\n",
              "      <td>-22.19</td>\n",
              "      <td>-48.79</td>\n",
              "    </tr>\n",
              "    <tr>\n",
              "      <th>1</th>\n",
              "      <td>Mesa de jantar</td>\n",
              "      <td>moveis</td>\n",
              "      <td>256.35</td>\n",
              "      <td>11.234305</td>\n",
              "      <td>18/05/2022</td>\n",
              "      <td>Beatriz Moraes</td>\n",
              "      <td>RJ</td>\n",
              "      <td>1</td>\n",
              "      <td>cartao_credito</td>\n",
              "      <td>4</td>\n",
              "      <td>-22.25</td>\n",
              "      <td>-42.66</td>\n",
              "    </tr>\n",
              "    <tr>\n",
              "      <th>2</th>\n",
              "      <td>Jogo de tabuleiro</td>\n",
              "      <td>brinquedos</td>\n",
              "      <td>279.51</td>\n",
              "      <td>21.262681</td>\n",
              "      <td>15/03/2021</td>\n",
              "      <td>João Souza</td>\n",
              "      <td>DF</td>\n",
              "      <td>1</td>\n",
              "      <td>cartao_credito</td>\n",
              "      <td>1</td>\n",
              "      <td>-15.83</td>\n",
              "      <td>-47.86</td>\n",
              "    </tr>\n",
              "    <tr>\n",
              "      <th>3</th>\n",
              "      <td>Micro-ondas</td>\n",
              "      <td>eletrodomesticos</td>\n",
              "      <td>1009.99</td>\n",
              "      <td>54.667344</td>\n",
              "      <td>03/05/2022</td>\n",
              "      <td>João Souza</td>\n",
              "      <td>RS</td>\n",
              "      <td>4</td>\n",
              "      <td>boleto</td>\n",
              "      <td>1</td>\n",
              "      <td>-30.17</td>\n",
              "      <td>-53.50</td>\n",
              "    </tr>\n",
              "    <tr>\n",
              "      <th>4</th>\n",
              "      <td>Cadeira de escritório</td>\n",
              "      <td>moveis</td>\n",
              "      <td>446.99</td>\n",
              "      <td>26.964689</td>\n",
              "      <td>07/11/2020</td>\n",
              "      <td>Larissa Alves</td>\n",
              "      <td>MG</td>\n",
              "      <td>5</td>\n",
              "      <td>boleto</td>\n",
              "      <td>1</td>\n",
              "      <td>-18.10</td>\n",
              "      <td>-44.38</td>\n",
              "    </tr>\n",
              "  </tbody>\n",
              "</table>\n",
              "</div>\n",
              "    <div class=\"colab-df-buttons\">\n",
              "\n",
              "  <div class=\"colab-df-container\">\n",
              "    <button class=\"colab-df-convert\" onclick=\"convertToInteractive('df-3d7ee65c-f00a-4561-82ae-cb31f98c290f')\"\n",
              "            title=\"Convert this dataframe to an interactive table.\"\n",
              "            style=\"display:none;\">\n",
              "\n",
              "  <svg xmlns=\"http://www.w3.org/2000/svg\" height=\"24px\" viewBox=\"0 -960 960 960\">\n",
              "    <path d=\"M120-120v-720h720v720H120Zm60-500h600v-160H180v160Zm220 220h160v-160H400v160Zm0 220h160v-160H400v160ZM180-400h160v-160H180v160Zm440 0h160v-160H620v160ZM180-180h160v-160H180v160Zm440 0h160v-160H620v160Z\"/>\n",
              "  </svg>\n",
              "    </button>\n",
              "\n",
              "  <style>\n",
              "    .colab-df-container {\n",
              "      display:flex;\n",
              "      gap: 12px;\n",
              "    }\n",
              "\n",
              "    .colab-df-convert {\n",
              "      background-color: #E8F0FE;\n",
              "      border: none;\n",
              "      border-radius: 50%;\n",
              "      cursor: pointer;\n",
              "      display: none;\n",
              "      fill: #1967D2;\n",
              "      height: 32px;\n",
              "      padding: 0 0 0 0;\n",
              "      width: 32px;\n",
              "    }\n",
              "\n",
              "    .colab-df-convert:hover {\n",
              "      background-color: #E2EBFA;\n",
              "      box-shadow: 0px 1px 2px rgba(60, 64, 67, 0.3), 0px 1px 3px 1px rgba(60, 64, 67, 0.15);\n",
              "      fill: #174EA6;\n",
              "    }\n",
              "\n",
              "    .colab-df-buttons div {\n",
              "      margin-bottom: 4px;\n",
              "    }\n",
              "\n",
              "    [theme=dark] .colab-df-convert {\n",
              "      background-color: #3B4455;\n",
              "      fill: #D2E3FC;\n",
              "    }\n",
              "\n",
              "    [theme=dark] .colab-df-convert:hover {\n",
              "      background-color: #434B5C;\n",
              "      box-shadow: 0px 1px 3px 1px rgba(0, 0, 0, 0.15);\n",
              "      filter: drop-shadow(0px 1px 2px rgba(0, 0, 0, 0.3));\n",
              "      fill: #FFFFFF;\n",
              "    }\n",
              "  </style>\n",
              "\n",
              "    <script>\n",
              "      const buttonEl =\n",
              "        document.querySelector('#df-3d7ee65c-f00a-4561-82ae-cb31f98c290f button.colab-df-convert');\n",
              "      buttonEl.style.display =\n",
              "        google.colab.kernel.accessAllowed ? 'block' : 'none';\n",
              "\n",
              "      async function convertToInteractive(key) {\n",
              "        const element = document.querySelector('#df-3d7ee65c-f00a-4561-82ae-cb31f98c290f');\n",
              "        const dataTable =\n",
              "          await google.colab.kernel.invokeFunction('convertToInteractive',\n",
              "                                                    [key], {});\n",
              "        if (!dataTable) return;\n",
              "\n",
              "        const docLinkHtml = 'Like what you see? Visit the ' +\n",
              "          '<a target=\"_blank\" href=https://colab.research.google.com/notebooks/data_table.ipynb>data table notebook</a>'\n",
              "          + ' to learn more about interactive tables.';\n",
              "        element.innerHTML = '';\n",
              "        dataTable['output_type'] = 'display_data';\n",
              "        await google.colab.output.renderOutput(dataTable, element);\n",
              "        const docLink = document.createElement('div');\n",
              "        docLink.innerHTML = docLinkHtml;\n",
              "        element.appendChild(docLink);\n",
              "      }\n",
              "    </script>\n",
              "  </div>\n",
              "\n",
              "\n",
              "    <div id=\"df-b39aa065-ca70-4bc3-8c19-7a698929798f\">\n",
              "      <button class=\"colab-df-quickchart\" onclick=\"quickchart('df-b39aa065-ca70-4bc3-8c19-7a698929798f')\"\n",
              "                title=\"Suggest charts\"\n",
              "                style=\"display:none;\">\n",
              "\n",
              "<svg xmlns=\"http://www.w3.org/2000/svg\" height=\"24px\"viewBox=\"0 0 24 24\"\n",
              "     width=\"24px\">\n",
              "    <g>\n",
              "        <path d=\"M19 3H5c-1.1 0-2 .9-2 2v14c0 1.1.9 2 2 2h14c1.1 0 2-.9 2-2V5c0-1.1-.9-2-2-2zM9 17H7v-7h2v7zm4 0h-2V7h2v10zm4 0h-2v-4h2v4z\"/>\n",
              "    </g>\n",
              "</svg>\n",
              "      </button>\n",
              "\n",
              "<style>\n",
              "  .colab-df-quickchart {\n",
              "      --bg-color: #E8F0FE;\n",
              "      --fill-color: #1967D2;\n",
              "      --hover-bg-color: #E2EBFA;\n",
              "      --hover-fill-color: #174EA6;\n",
              "      --disabled-fill-color: #AAA;\n",
              "      --disabled-bg-color: #DDD;\n",
              "  }\n",
              "\n",
              "  [theme=dark] .colab-df-quickchart {\n",
              "      --bg-color: #3B4455;\n",
              "      --fill-color: #D2E3FC;\n",
              "      --hover-bg-color: #434B5C;\n",
              "      --hover-fill-color: #FFFFFF;\n",
              "      --disabled-bg-color: #3B4455;\n",
              "      --disabled-fill-color: #666;\n",
              "  }\n",
              "\n",
              "  .colab-df-quickchart {\n",
              "    background-color: var(--bg-color);\n",
              "    border: none;\n",
              "    border-radius: 50%;\n",
              "    cursor: pointer;\n",
              "    display: none;\n",
              "    fill: var(--fill-color);\n",
              "    height: 32px;\n",
              "    padding: 0;\n",
              "    width: 32px;\n",
              "  }\n",
              "\n",
              "  .colab-df-quickchart:hover {\n",
              "    background-color: var(--hover-bg-color);\n",
              "    box-shadow: 0 1px 2px rgba(60, 64, 67, 0.3), 0 1px 3px 1px rgba(60, 64, 67, 0.15);\n",
              "    fill: var(--button-hover-fill-color);\n",
              "  }\n",
              "\n",
              "  .colab-df-quickchart-complete:disabled,\n",
              "  .colab-df-quickchart-complete:disabled:hover {\n",
              "    background-color: var(--disabled-bg-color);\n",
              "    fill: var(--disabled-fill-color);\n",
              "    box-shadow: none;\n",
              "  }\n",
              "\n",
              "  .colab-df-spinner {\n",
              "    border: 2px solid var(--fill-color);\n",
              "    border-color: transparent;\n",
              "    border-bottom-color: var(--fill-color);\n",
              "    animation:\n",
              "      spin 1s steps(1) infinite;\n",
              "  }\n",
              "\n",
              "  @keyframes spin {\n",
              "    0% {\n",
              "      border-color: transparent;\n",
              "      border-bottom-color: var(--fill-color);\n",
              "      border-left-color: var(--fill-color);\n",
              "    }\n",
              "    20% {\n",
              "      border-color: transparent;\n",
              "      border-left-color: var(--fill-color);\n",
              "      border-top-color: var(--fill-color);\n",
              "    }\n",
              "    30% {\n",
              "      border-color: transparent;\n",
              "      border-left-color: var(--fill-color);\n",
              "      border-top-color: var(--fill-color);\n",
              "      border-right-color: var(--fill-color);\n",
              "    }\n",
              "    40% {\n",
              "      border-color: transparent;\n",
              "      border-right-color: var(--fill-color);\n",
              "      border-top-color: var(--fill-color);\n",
              "    }\n",
              "    60% {\n",
              "      border-color: transparent;\n",
              "      border-right-color: var(--fill-color);\n",
              "    }\n",
              "    80% {\n",
              "      border-color: transparent;\n",
              "      border-right-color: var(--fill-color);\n",
              "      border-bottom-color: var(--fill-color);\n",
              "    }\n",
              "    90% {\n",
              "      border-color: transparent;\n",
              "      border-bottom-color: var(--fill-color);\n",
              "    }\n",
              "  }\n",
              "</style>\n",
              "\n",
              "      <script>\n",
              "        async function quickchart(key) {\n",
              "          const quickchartButtonEl =\n",
              "            document.querySelector('#' + key + ' button');\n",
              "          quickchartButtonEl.disabled = true;  // To prevent multiple clicks.\n",
              "          quickchartButtonEl.classList.add('colab-df-spinner');\n",
              "          try {\n",
              "            const charts = await google.colab.kernel.invokeFunction(\n",
              "                'suggestCharts', [key], {});\n",
              "          } catch (error) {\n",
              "            console.error('Error during call to suggestCharts:', error);\n",
              "          }\n",
              "          quickchartButtonEl.classList.remove('colab-df-spinner');\n",
              "          quickchartButtonEl.classList.add('colab-df-quickchart-complete');\n",
              "        }\n",
              "        (() => {\n",
              "          let quickchartButtonEl =\n",
              "            document.querySelector('#df-b39aa065-ca70-4bc3-8c19-7a698929798f button');\n",
              "          quickchartButtonEl.style.display =\n",
              "            google.colab.kernel.accessAllowed ? 'block' : 'none';\n",
              "        })();\n",
              "      </script>\n",
              "    </div>\n",
              "\n",
              "    </div>\n",
              "  </div>\n"
            ],
            "application/vnd.google.colaboratory.intrinsic+json": {
              "type": "dataframe",
              "variable_name": "loja",
              "summary": "{\n  \"name\": \"loja\",\n  \"rows\": 2359,\n  \"fields\": [\n    {\n      \"column\": \"Produto\",\n      \"properties\": {\n        \"dtype\": \"category\",\n        \"num_unique_values\": 51,\n        \"samples\": [\n          \"Viol\\u00e3o\",\n          \"Bola de basquete\",\n          \"Smartwatch\"\n        ],\n        \"semantic_type\": \"\",\n        \"description\": \"\"\n      }\n    },\n    {\n      \"column\": \"Categoria do Produto\",\n      \"properties\": {\n        \"dtype\": \"category\",\n        \"num_unique_values\": 8,\n        \"samples\": [\n          \"moveis\",\n          \"esporte e lazer\",\n          \"eletronicos\"\n        ],\n        \"semantic_type\": \"\",\n        \"description\": \"\"\n      }\n    },\n    {\n      \"column\": \"Pre\\u00e7o\",\n      \"properties\": {\n        \"dtype\": \"number\",\n        \"std\": 819.5827782539145,\n        \"min\": 10.07,\n        \"max\": 3969.38,\n        \"num_unique_values\": 2315,\n        \"samples\": [\n          446.11,\n          107.31,\n          65.86\n        ],\n        \"semantic_type\": \"\",\n        \"description\": \"\"\n      }\n    },\n    {\n      \"column\": \"Frete\",\n      \"properties\": {\n        \"dtype\": \"number\",\n        \"std\": 43.814183327408166,\n        \"min\": 0.0,\n        \"max\": 214.3770604781,\n        \"num_unique_values\": 2149,\n        \"samples\": [\n          83.815279607,\n          16.069664669,\n          14.0344876928\n        ],\n        \"semantic_type\": \"\",\n        \"description\": \"\"\n      }\n    },\n    {\n      \"column\": \"Data da Compra\",\n      \"properties\": {\n        \"dtype\": \"object\",\n        \"num_unique_values\": 1018,\n        \"samples\": [\n          \"15/09/2022\",\n          \"03/06/2020\",\n          \"06/11/2021\"\n        ],\n        \"semantic_type\": \"\",\n        \"description\": \"\"\n      }\n    },\n    {\n      \"column\": \"Vendedor\",\n      \"properties\": {\n        \"dtype\": \"category\",\n        \"num_unique_values\": 14,\n        \"samples\": [\n          \"Juliana Costa\",\n          \"Mariana Ferreira\",\n          \"Pedro Gomes\"\n        ],\n        \"semantic_type\": \"\",\n        \"description\": \"\"\n      }\n    },\n    {\n      \"column\": \"Local da compra\",\n      \"properties\": {\n        \"dtype\": \"category\",\n        \"num_unique_values\": 26,\n        \"samples\": [\n          \"TO\",\n          \"RN\",\n          \"SP\"\n        ],\n        \"semantic_type\": \"\",\n        \"description\": \"\"\n      }\n    },\n    {\n      \"column\": \"Avalia\\u00e7\\u00e3o da compra\",\n      \"properties\": {\n        \"dtype\": \"number\",\n        \"std\": 1,\n        \"min\": 1,\n        \"max\": 5,\n        \"num_unique_values\": 5,\n        \"samples\": [\n          1,\n          2,\n          5\n        ],\n        \"semantic_type\": \"\",\n        \"description\": \"\"\n      }\n    },\n    {\n      \"column\": \"Tipo de pagamento\",\n      \"properties\": {\n        \"dtype\": \"category\",\n        \"num_unique_values\": 4,\n        \"samples\": [\n          \"boleto\",\n          \"cartao_debito\",\n          \"cartao_credito\"\n        ],\n        \"semantic_type\": \"\",\n        \"description\": \"\"\n      }\n    },\n    {\n      \"column\": \"Quantidade de parcelas\",\n      \"properties\": {\n        \"dtype\": \"number\",\n        \"std\": 2,\n        \"min\": 1,\n        \"max\": 24,\n        \"num_unique_values\": 15,\n        \"samples\": [\n          7,\n          14,\n          8\n        ],\n        \"semantic_type\": \"\",\n        \"description\": \"\"\n      }\n    },\n    {\n      \"column\": \"lat\",\n      \"properties\": {\n        \"dtype\": \"number\",\n        \"std\": 5.372399916530833,\n        \"min\": -30.17,\n        \"max\": 1.41,\n        \"num_unique_values\": 26,\n        \"samples\": [\n          -9.46,\n          -5.81,\n          -22.19\n        ],\n        \"semantic_type\": \"\",\n        \"description\": \"\"\n      }\n    },\n    {\n      \"column\": \"lon\",\n      \"properties\": {\n        \"dtype\": \"number\",\n        \"std\": 4.183180020544179,\n        \"min\": -70.55,\n        \"max\": -36.59,\n        \"num_unique_values\": 26,\n        \"samples\": [\n          -48.26,\n          -36.59,\n          -48.79\n        ],\n        \"semantic_type\": \"\",\n        \"description\": \"\"\n      }\n    }\n  ]\n}"
            }
          },
          "metadata": {},
          "execution_count": 2
        }
      ],
      "source": [
        "import pandas as pd\n",
        "\n",
        "url = \"https://raw.githubusercontent.com/alura-es-cursos/challenge1-data-science/refs/heads/main/base-de-dados-challenge-1/loja_1.csv\"\n",
        "url2 = \"https://raw.githubusercontent.com/alura-es-cursos/challenge1-data-science/refs/heads/main/base-de-dados-challenge-1/loja_2.csv\"\n",
        "url3 = \"https://raw.githubusercontent.com/alura-es-cursos/challenge1-data-science/refs/heads/main/base-de-dados-challenge-1/loja_3.csv\"\n",
        "url4 = \"https://raw.githubusercontent.com/alura-es-cursos/challenge1-data-science/refs/heads/main/base-de-dados-challenge-1/loja_4.csv\"\n",
        "\n",
        "loja = pd.read_csv(url)\n",
        "loja2 = pd.read_csv(url2)\n",
        "loja3 = pd.read_csv(url3)\n",
        "loja4 = pd.read_csv(url4)\n",
        "\n",
        "loja.head()"
      ]
    },
    {
      "cell_type": "markdown",
      "source": [
        "#1. Análise do faturamento\n"
      ],
      "metadata": {
        "id": "X62IW3KFUIYm"
      }
    },
    {
      "cell_type": "code",
      "source": [
        "from urllib.request import urlopen\n",
        "import csv"
      ],
      "metadata": {
        "id": "xykobSftV64I"
      },
      "execution_count": 3,
      "outputs": []
    },
    {
      "cell_type": "code",
      "source": [
        "# URLs das lojas\n",
        "urls = [url, url2, url3, url4]\n",
        "\n",
        "# Função para ler CSV a partir da URL\n",
        "def ler_csv(url):\n",
        "    try:\n",
        "        with urlopen(url) as resposta:\n",
        "            linhas = resposta.read().decode('utf-8').splitlines()\n",
        "            leitor = csv.DictReader(linhas)\n",
        "            return [linha for linha in leitor]\n",
        "    except Exception as e:\n",
        "        print(f\"Erro ao ler CSV de {url}: {e}\")\n",
        "        return []\n",
        "\n",
        "# Função para calcular faturamento de uma loja\n",
        "def calcular_faturamento(dados_loja):\n",
        "    return sum(float(venda['Preço']) for venda in dados_loja)\n",
        "\n",
        "# Análise de faturamento\n",
        "faturamento_total = 0\n",
        "\n",
        "for i, url in enumerate(urls):\n",
        "    dados_loja = ler_csv(url)\n",
        "    if dados_loja:\n",
        "        faturamento_loja = calcular_faturamento(dados_loja)\n",
        "        print(f\"Faturamento Loja {i+1}: R${faturamento_loja:.2f}\")\n",
        "        faturamento_total += faturamento_loja\n",
        "\n",
        "# Mostrar faturamento total\n",
        "print(f\"\\nFaturamento total de todas as lojas: R${faturamento_total:.2f}\")"
      ],
      "metadata": {
        "id": "KDyr8E71V3m-",
        "colab": {
          "base_uri": "https://localhost:8080/"
        },
        "outputId": "016b3bad-b427-437c-cda3-ec7722eaeb4e"
      },
      "execution_count": 5,
      "outputs": [
        {
          "output_type": "stream",
          "name": "stdout",
          "text": [
            "Faturamento Loja 1: R$1534509.12\n",
            "Faturamento Loja 2: R$1488459.06\n",
            "Faturamento Loja 3: R$1464025.03\n",
            "Faturamento Loja 4: R$1384497.58\n",
            "\n",
            "Faturamento total de todas as lojas: R$5871490.79\n"
          ]
        }
      ]
    },
    {
      "cell_type": "markdown",
      "source": [
        "# 2. Vendas por Categoria\n"
      ],
      "metadata": {
        "id": "2V_vcAPzWZmR"
      }
    },
    {
      "cell_type": "code",
      "source": [
        "from collections import defaultdict\n",
        "from urllib.request import urlopen\n",
        "import csv"
      ],
      "metadata": {
        "id": "A34YupIuYhfF"
      },
      "execution_count": 6,
      "outputs": []
    },
    {
      "cell_type": "code",
      "source": [
        "# Função para ler CSV de uma URL\n",
        "def ler_csv(url):\n",
        "    with urlopen(url) as resposta:\n",
        "        linhas = resposta.read().decode('utf-8').splitlines()\n",
        "        leitor = csv.DictReader(linhas)\n",
        "        return [linha for linha in leitor]\n",
        "\n",
        "# Função para calcular vendas por categoria em uma loja\n",
        "def calcular_vendas_por_categoria(dados_loja):\n",
        "    categorias = defaultdict(float)  # Defaultdict para evitar a verificação de chave\n",
        "    for venda in dados_loja:\n",
        "        categoria = venda['Categoria do Produto']\n",
        "        preco = float(venda['Preço'])\n",
        "        quantidade = int(venda['Quantidade de parcelas'])\n",
        "        valor_venda = preco * quantidade\n",
        "        categorias[categoria] += valor_venda\n",
        "    return categorias\n",
        "\n",
        "# Função principal para processar as vendas de todas as lojas\n",
        "def processar_vendas(urls):\n",
        "    vendas_por_categoria = defaultdict(float)\n",
        "\n",
        "    # Processar todas as lojas\n",
        "    for i, url in enumerate(urls):\n",
        "        dados_loja = ler_csv(url)\n",
        "        print(f\"\\nVendas por categoria na Loja {i+1}:\")\n",
        "\n",
        "        # Vendas por categoria para a loja atual\n",
        "        categorias_loja = calcular_vendas_por_categoria(dados_loja)\n",
        "\n",
        "        for categoria, valor in categorias_loja.items():\n",
        "            print(f\"  {categoria}: R${valor:.2f}\")\n",
        "\n",
        "        # Atualizar o dicionário geral\n",
        "        for categoria, valor in categorias_loja.items():\n",
        "            vendas_por_categoria[categoria] += valor\n",
        "\n",
        "    # Exibir as vendas totais por categoria\n",
        "    print(\"\\nVendas totais por categoria (todas as lojas):\")\n",
        "    for categoria, valor in vendas_por_categoria.items():\n",
        "        print(f\"  {categoria}: R${valor:.2f}\")\n",
        "\n",
        "    # Calcular o total geral\n",
        "    total_geral = sum(vendas_por_categoria.values())\n",
        "    print(f\"\\nTotal geral de vendas: R${total_geral:.2f}\")\n",
        "\n",
        "# Chamada da função principal\n",
        "processar_vendas(urls)"
      ],
      "metadata": {
        "id": "yZR6cOjXYSk1",
        "colab": {
          "base_uri": "https://localhost:8080/"
        },
        "outputId": "0766543c-6373-4c28-f8d4-4ec9b9204bf7"
      },
      "execution_count": 7,
      "outputs": [
        {
          "output_type": "stream",
          "name": "stdout",
          "text": [
            "\n",
            "Vendas por categoria na Loja 1:\n",
            "  eletronicos: R$1720525.18\n",
            "  moveis: R$777243.14\n",
            "  brinquedos: R$65412.04\n",
            "  eletrodomesticos: R$1376501.27\n",
            "  utilidades domesticas: R$51092.72\n",
            "  esporte e lazer: R$169179.18\n",
            "  livros: R$34360.24\n",
            "  instrumentos musicais: R$369322.34\n",
            "\n",
            "Vendas por categoria na Loja 2:\n",
            "  moveis: R$703108.03\n",
            "  instrumentos musicais: R$392599.48\n",
            "  esporte e lazer: R$108879.57\n",
            "  eletronicos: R$1715519.72\n",
            "  utilidades domesticas: R$56984.93\n",
            "  brinquedos: R$62300.37\n",
            "  eletrodomesticos: R$1368304.66\n",
            "  livros: R$41887.42\n",
            "\n",
            "Vendas por categoria na Loja 3:\n",
            "  eletrodomesticos: R$1441845.38\n",
            "  moveis: R$740123.50\n",
            "  instrumentos musicais: R$333781.40\n",
            "  esporte e lazer: R$164527.29\n",
            "  eletronicos: R$1468443.69\n",
            "  brinquedos: R$81591.72\n",
            "  utilidades domesticas: R$59635.75\n",
            "  livros: R$35142.69\n",
            "\n",
            "Vendas por categoria na Loja 4:\n",
            "  eletrodomesticos: R$1172119.35\n",
            "  moveis: R$742172.64\n",
            "  esporte e lazer: R$133411.27\n",
            "  livros: R$39390.51\n",
            "  eletronicos: R$1615256.00\n",
            "  instrumentos musicais: R$297117.55\n",
            "  brinquedos: R$72849.77\n",
            "  utilidades domesticas: R$59436.05\n",
            "\n",
            "Vendas totais por categoria (todas as lojas):\n",
            "  eletronicos: R$6519744.59\n",
            "  moveis: R$2962647.31\n",
            "  brinquedos: R$282153.90\n",
            "  eletrodomesticos: R$5358770.66\n",
            "  utilidades domesticas: R$227149.45\n",
            "  esporte e lazer: R$575997.31\n",
            "  livros: R$150780.86\n",
            "  instrumentos musicais: R$1392820.77\n",
            "\n",
            "Total geral de vendas: R$17470064.85\n"
          ]
        }
      ]
    },
    {
      "cell_type": "markdown",
      "source": [
        "# 3. Média de Avaliação das Lojas"
      ],
      "metadata": {
        "id": "Rq6tU_xSY3jk"
      }
    },
    {
      "cell_type": "code",
      "source": [
        "def ler_csv(url):\n",
        "    dados = []\n",
        "    with urlopen(url) as resposta:\n",
        "        # Decodificar os dados\n",
        "        linhas = resposta.read().decode('utf-8').splitlines()\n",
        "        leitor = csv.DictReader(linhas)\n",
        "        for linha in leitor:\n",
        "            dados.append(linha)\n",
        "    return dados"
      ],
      "metadata": {
        "id": "bh3jjjJwY5MU"
      },
      "execution_count": 8,
      "outputs": []
    },
    {
      "cell_type": "code",
      "source": [
        "# Calcular a avaliação média para cada loja\n",
        "for i, url in enumerate(urls):\n",
        "    dados_loja = ler_csv(url)\n",
        "\n",
        "    # Variáveis para calcular a média\n",
        "    soma_avaliacoes = 0\n",
        "    quantidade_produtos = 0\n",
        "\n",
        "    for produto in dados_loja:\n",
        "        try:\n",
        "            # Tentamos com diferentes possíveis nomes de coluna\n",
        "            if 'Avaliação da compra' in produto:\n",
        "                avaliacao = float(produto['Avaliação da compra'])\n",
        "            elif 'Avaliação da compra' in produto:\n",
        "                avaliacao = float(produto['Avaliação da compra'])\n",
        "            elif 'Avaliação da compra' in produto:\n",
        "                avaliacao = float(produto['Avaliação da compra'])\n",
        "            else:\n",
        "                # Se não encontramos a coluna, imprimimos as chaves disponíveis\n",
        "                print(f\"Chaves disponíveis na loja {i+1}:\", produto.keys())\n",
        "                raise KeyError(\"Não encontramos a coluna de avaliação\")\n",
        "\n",
        "            soma_avaliacoes += avaliacao\n",
        "            quantidade_produtos += 1\n",
        "        except (ValueError, KeyError) as e:\n",
        "            if isinstance(e, KeyError):\n",
        "                raise\n",
        "            # Ignoramos valores que não podem ser convertidos para float\n",
        "            continue\n",
        "\n",
        "    if quantidade_produtos > 0:\n",
        "        avaliacao_media = soma_avaliacoes / quantidade_produtos\n",
        "        print(f\"Avaliação média da Loja {i+1}: {avaliacao_media:.2f}\")\n",
        "    else:\n",
        "        print(f\"Não foi possível processar as avaliações para a Loja {i+1}\")"
      ],
      "metadata": {
        "id": "I0KkjPoTY88F",
        "colab": {
          "base_uri": "https://localhost:8080/"
        },
        "outputId": "8393c3c8-1e55-414e-f058-96464cb35393"
      },
      "execution_count": 9,
      "outputs": [
        {
          "output_type": "stream",
          "name": "stdout",
          "text": [
            "Avaliação média da Loja 1: 3.98\n",
            "Avaliação média da Loja 2: 4.04\n",
            "Avaliação média da Loja 3: 4.05\n",
            "Avaliação média da Loja 4: 4.00\n"
          ]
        }
      ]
    },
    {
      "cell_type": "markdown",
      "source": [
        "# 4. Produtos Mais e Menos Vendidos"
      ],
      "metadata": {
        "id": "DmNp1KPBZCm-"
      }
    },
    {
      "cell_type": "code",
      "source": [
        "import pandas as pd\n",
        "\n",
        "# Ler todos os CSVs e adicionar uma coluna 'Loja'\n",
        "df_total = pd.concat(\n",
        "    [pd.read_csv(url).assign(Loja=f\"Loja {i+1}\") for i, url in enumerate(urls)],\n",
        "    ignore_index=True\n",
        ")"
      ],
      "metadata": {
        "id": "qoyjqijQZHfF"
      },
      "execution_count": 10,
      "outputs": []
    },
    {
      "cell_type": "code",
      "source": [
        "# Garantir os tipos corretos\n",
        "df_total['Preço'] = df_total['Preço'].astype(float)\n",
        "df_total['Quantidade de parcelas'] = df_total['Quantidade de parcelas'].astype(int)\n",
        "\n",
        "# A receita é simplesmente o Preço (não multiplicamos pela quantidade de parcelas)\n",
        "df_total['Receita'] = df_total['Preço']\n",
        "\n",
        "# Agrupar por Loja e Produto somando a receita\n",
        "vendas = df_total.groupby(['Loja', 'Produto'])['Receita'].sum().reset_index()\n",
        "\n",
        "# Função para mostrar os 3 produtos que mais e menos dinheiro geraram\n",
        "def top_produtos(loja):\n",
        "    dados = vendas[vendas['Loja'] == loja]\n",
        "\n",
        "    # Ordenação e seleção dos top produtos\n",
        "    top_mais_vendidos = dados.nlargest(3, 'Receita')\n",
        "    top_menos_vendidos = dados.nsmallest(3, 'Receita')\n",
        "\n",
        "    # Exibição dos resultados\n",
        "    print(f\"\\n{loja} - TOP 3 produtos que MAIS dinheiro geraram:\")\n",
        "    for _, linha in top_mais_vendidos.iterrows():\n",
        "        print(f\"  {linha['Produto']} - Receita: R${linha['Receita']:.2f}\")\n",
        "\n",
        "    print(f\"\\n{loja} - TOP 3 produtos que MENOS dinheiro geraram:\")\n",
        "    for _, linha in top_menos_vendidos.iterrows():\n",
        "        print(f\"  {linha['Produto']} - Receita: R${linha['Receita']:.2f}\")\n",
        "\n",
        "# Mostrar resultados para cada loja\n",
        "for loja in vendas['Loja'].unique():\n",
        "    top_produtos(loja)\n",
        ""
      ],
      "metadata": {
        "id": "0Sw3sd4IZIGW",
        "colab": {
          "base_uri": "https://localhost:8080/"
        },
        "outputId": "4f86c723-aa72-4de7-d84a-3a00a4c59a94"
      },
      "execution_count": 11,
      "outputs": [
        {
          "output_type": "stream",
          "name": "stdout",
          "text": [
            "\n",
            "Loja 1 - TOP 3 produtos que MAIS dinheiro geraram:\n",
            "  TV Led UHD 4K - Receita: R$189534.28\n",
            "  Geladeira - Receita: R$149524.28\n",
            "  Celular Plus X42 - Receita: R$130536.40\n",
            "\n",
            "Loja 1 - TOP 3 produtos que MENOS dinheiro geraram:\n",
            "  Corda de pular - Receita: R$870.89\n",
            "  Dinossauro Rex - Receita: R$918.40\n",
            "  Cubo mágico 8x8 - Receita: R$929.27\n",
            "\n",
            "Loja 2 - TOP 3 produtos que MAIS dinheiro geraram:\n",
            "  Celular Plus X42 - Receita: R$150967.83\n",
            "  TV Led UHD 4K - Receita: R$137833.06\n",
            "  Geladeira - Receita: R$130176.48\n",
            "\n",
            "Loja 2 - TOP 3 produtos que MENOS dinheiro geraram:\n",
            "  Cubo mágico 8x8 - Receita: R$858.22\n",
            "  Dinossauro Rex - Receita: R$1027.41\n",
            "  Corda de pular - Receita: R$1142.54\n",
            "\n",
            "Loja 3 - TOP 3 produtos que MAIS dinheiro geraram:\n",
            "  Geladeira - Receita: R$133185.99\n",
            "  TV Led UHD 4K - Receita: R$128892.11\n",
            "  Celular Plus X42 - Receita: R$124300.84\n",
            "\n",
            "Loja 3 - TOP 3 produtos que MENOS dinheiro geraram:\n",
            "  Cubo mágico 8x8 - Receita: R$853.81\n",
            "  Dinossauro Rex - Receita: R$1060.78\n",
            "  Corda de pular - Receita: R$1137.76\n",
            "\n",
            "Loja 4 - TOP 3 produtos que MAIS dinheiro geraram:\n",
            "  Celular Plus X42 - Receita: R$128930.07\n",
            "  TV Led UHD 4K - Receita: R$120393.25\n",
            "  Smart TV - Receita: R$110387.57\n",
            "\n",
            "Loja 4 - TOP 3 produtos que MENOS dinheiro geraram:\n",
            "  Corda de pular - Receita: R$939.74\n",
            "  Cubo mágico 8x8 - Receita: R$997.38\n",
            "  Dinossauro Rex - Receita: R$1143.94\n"
          ]
        }
      ]
    },
    {
      "cell_type": "markdown",
      "source": [
        "# 5. Frete Médio por Loja\n"
      ],
      "metadata": {
        "id": "Fl0cGi3bZKqU"
      }
    },
    {
      "cell_type": "code",
      "source": [
        "# Agrupar por loja e calcular a média do custo de envio\n",
        "envio_medio = df_total.groupby('Loja')['Frete'].mean().round(2)"
      ],
      "metadata": {
        "id": "S2JeaCykZNy9"
      },
      "execution_count": 12,
      "outputs": []
    },
    {
      "cell_type": "code",
      "source": [
        "# Mostrar resultados\n",
        "print(\"\\nEnvio médio por loja:\")\n",
        "for loja, medio in envio_medio.items():\n",
        "    print(f\"{loja}: R${medio}\")\n",
        ""
      ],
      "metadata": {
        "id": "0tSdCie9ZQlt",
        "colab": {
          "base_uri": "https://localhost:8080/"
        },
        "outputId": "15db4b04-46d3-469b-f66f-9c348a0a3ee3"
      },
      "execution_count": 13,
      "outputs": [
        {
          "output_type": "stream",
          "name": "stdout",
          "text": [
            "\n",
            "Envio médio por loja:\n",
            "Loja 1: R$34.69\n",
            "Loja 2: R$33.62\n",
            "Loja 3: R$33.07\n",
            "Loja 4: R$31.28\n"
          ]
        }
      ]
    },
    {
      "cell_type": "markdown",
      "source": [
        "Gráficos"
      ],
      "metadata": {
        "id": "p10saIR1EvsT"
      }
    },
    {
      "cell_type": "code",
      "source": [
        "import matplotlib.pyplot as plt"
      ],
      "metadata": {
        "id": "D7L7vlk-E9Zj"
      },
      "execution_count": 15,
      "outputs": []
    },
    {
      "cell_type": "code",
      "source": [
        "# Estilo claro personalizado\n",
        "plt.style.use('default')  # volta ao estilo claro base\n",
        "\n",
        "plt.rcParams.update({\n",
        "    'figure.facecolor': '#ffffff',           # fundo da figura\n",
        "    'axes.facecolor': '#f9f9f9',             # fundo do gráfico\n",
        "    'axes.edgecolor': '#cccccc',             # borda clara\n",
        "    'axes.labelcolor': '#333333',            # cor dos rótulos dos eixos\n",
        "    'xtick.color': '#555555',\n",
        "    'ytick.color': '#555555',\n",
        "    'grid.color': '#e0e0e0',                 # grade sutil\n",
        "    'grid.linestyle': '--',\n",
        "    'grid.linewidth': 0.7,\n",
        "    'text.color': '#000000',\n",
        "    'axes.titleweight': 'bold',\n",
        "    'axes.titlepad': 20,\n",
        "    'axes.titlesize': 16,\n",
        "    'axes.labelsize': 13,\n",
        "    'legend.facecolor': '#f4f4f4',\n",
        "    'legend.edgecolor': '#cccccc',\n",
        "    'legend.fontsize': 11,\n",
        "    'lines.linewidth': 2,\n",
        "    'lines.markersize': 6,\n",
        "    'font.family': 'DejaVu Sans',\n",
        "})\n",
        "\n",
        "# Paleta pastel moderna\n",
        "colors = ['#6D9DC5', '#F4A259', '#8CD17D', '#D3B88C', '#F27C8D']"
      ],
      "metadata": {
        "id": "sEOIS4drFA8g"
      },
      "execution_count": 23,
      "outputs": []
    },
    {
      "cell_type": "code",
      "source": [
        "# 1. Barra vertical: Total de receitas\n",
        "# Calculate total revenue per store\n",
        "receitas_totais = vendas.groupby('Loja')['Receita'].sum()\n",
        "\n",
        "plt.figure(figsize=(8,5))\n",
        "receitas_totais.plot(kind='bar', color=colors)\n",
        "plt.title('Receitas Totais por Loja')\n",
        "plt.ylabel('Total de Receitas (BRL)')\n",
        "plt.xlabel('Loja')\n",
        "plt.grid(axis='y', linestyle='--', linewidth=0.5)\n",
        "plt.tight_layout()\n",
        "plt.show()"
      ],
      "metadata": {
        "colab": {
          "base_uri": "https://localhost:8080/",
          "height": 507
        },
        "id": "Q8Y2DmOpFE2s",
        "outputId": "75103788-6951-4825-9e00-981abf87e6b6"
      },
      "execution_count": 24,
      "outputs": [
        {
          "output_type": "display_data",
          "data": {
            "text/plain": [
              "<Figure size 800x500 with 1 Axes>"
            ],
            "image/png": "[encoded data removed]"
          },
          "metadata": {}
        }
      ]
    },
    {
      "cell_type": "code",
      "source": [
        "# 2. Linha: Receita média por venda\n",
        "\n",
        "# Calculate average revenue per sale per store\n",
        "receita_media = df_total.groupby('Loja')['Receita'].mean()\n",
        "\n",
        "plt.figure(figsize=(8,5))\n",
        "receita_media.plot(kind='line', marker='o', linestyle='-', color='#cdb380', linewidth=2, markersize=7)\n",
        "plt.title('Receita Média por Venda em Cada Loja')\n",
        "plt.ylabel('Receita Média (BRL)')\n",
        "plt.xlabel('Loja')\n",
        "plt.grid(True, linestyle='--', linewidth=0.5)\n",
        "plt.tight_layout()\n",
        "plt.show()"
      ],
      "metadata": {
        "colab": {
          "base_uri": "https://localhost:8080/",
          "height": 506
        },
        "id": "vgqLRaHiFQr4",
        "outputId": "71e7b149-a6a6-4894-8e3d-5e8e84fca935"
      },
      "execution_count": 25,
      "outputs": [
        {
          "output_type": "display_data",
          "data": {
            "text/plain": [
              "<Figure size 800x500 with 1 Axes>"
            ],
            "image/png": "[encoded data removed]"
          },
          "metadata": {}
        }
      ]
    },
    {
      "cell_type": "code",
      "source": [
        "# 3. Pizza: Distribuição do total\n",
        "plt.figure(figsize=(7,7))\n",
        "receitas_totais.plot(kind='pie', colors=colors, autopct='%1.1f%%', startangle=90)\n",
        "plt.title('Participação de Cada Loja nas Receitas Totais')\n",
        "plt.ylabel('')\n",
        "plt.tight_layout()\n",
        "plt.show()"
      ],
      "metadata": {
        "colab": {
          "base_uri": "https://localhost:8080/",
          "height": 707
        },
        "id": "ctw6RNnRFY6D",
        "outputId": "5b5297bd-cdf2-49eb-81b1-140f33e09841"
      },
      "execution_count": 26,
      "outputs": [
        {
          "output_type": "display_data",
          "data": {
            "text/plain": [
              "<Figure size 700x700 with 1 Axes>"
            ],
            "image/png": "[encoded data removed]"
          },
          "metadata": {}
        }
      ]
    },
    {
      "cell_type": "markdown",
      "source": [
        "## 📊 Relatório de Vendas e Desempenho das Lojas\n",
        "\n"
      ],
      "metadata": {
        "id": "xRxn0BwQHFma"
      }
    },
    {
      "cell_type": "markdown",
      "source": [
        "##🏆 1. Loja Mais Vantajosa: Loja 1\n",
        "A Loja 1 se destaca por seu desempenho robusto, com os seguintes pontos fortes:\n",
        "\n",
        "Faturamento 💰: Apresenta o maior faturamento entre as lojas (R$ 1.534.509,12), refletindo um alto volume de vendas e estabilidade financeira.\n",
        "\n",
        "Vendas por Categoria 📊: Tem grande destaque em eletrônicos (R$ 1.376.501,27), categoria de alto valor agregado.\n",
        "\n",
        "Avaliação Média ⭐: Avaliada com média de 3.98, mostra um bom nível de satisfação dos clientes.\n",
        "\n",
        "Produtos Vendidos 📦: Itens como a TV Led UHD 4K (R$ 149.524,28) geram excelente receita. Embora haja produtos com menor desempenho, como o Cubo Mágico 8x8 (929,27 reais), eles são minoria no portfólio.\n",
        "\n",
        "*Frete Médio 🚚: O custo médio é de R$ 34,69 — aceitável diante da alta performance geral.*\n",
        "\n",
        "**➡️ Conclusão: A Loja 1 reúne os principais fatores de sucesso — alto faturamento, boas avaliações, destaque em categorias valiosas e produtos com excelente desempenho.**\n",
        "\n",
        "## ❌ 2. Loja Menos Vantajosa: Loja 4\n",
        "Apesar de alguns pontos positivos, a Loja 4 apresenta desempenho inferior em comparação às demais:\n",
        "\n",
        "Faturamento 💸: Possui o menor entre as lojas, totalizando R$ 1.384.497,58.\n",
        "\n",
        "Vendas por Categoria 📉: Embora tenha vendas relevantes em eletrônicos (R$ 1.172.119,35), o volume total de vendas ainda é baixo.\n",
        "\n",
        "Avaliação Média ⭐: Avaliada com média de 4.00 — um bom resultado, mas não o melhor (Loja 3 lidera com 4.05).\n",
        "\n",
        "Produtos Vendidos 📦: Produtos como Corda de Pular (R$ 997,38) geram pouca receita, indicando menor atratividade comercial.\n",
        "\n",
        "Frete Médio 🚚: Tem o menor custo (R$ 31,28), o que é positivo, mas não compensa o baixo desempenho geral.\n",
        "\n",
        "**➡️ Conclusão: A Loja 4 apresenta limitações importantes — faturamento reduzido, produtos com baixa atratividade e menor potencial de crescimento.**\n",
        "\n",
        "## 🏁 3. Loja Recomendável para Desinvestimento: Loja 4\n",
        "Com base na análise global, recomenda-se que o Sr. João se desfaça da Loja 4, pelos seguintes motivos:\n",
        "\n",
        "Desempenho Financeiro 💸: É a loja com menor faturamento e desempenho geral.\n",
        "\n",
        "Portfólio Fraco 📉: Os produtos vendidos geram receitas modestas, comprometendo a rentabilidade.\n",
        "\n",
        "Rentabilidade Geral ⚠️: Mesmo com frete barato, o retorno financeiro é insatisfatório frente às demais lojas.\n",
        "\n",
        "**➡️ Recomendação: Focar em lojas com melhor performance, como a Loja 1, pode trazer melhores resultados e otimizar o investimento do Sr. João.**"
      ],
      "metadata": {
        "id": "1Nyy1pKMHRbT"
      }
    },
    {
      "cell_type": "markdown",
      "source": [
        "### 📝 Conclusão Final\n",
        "\n",
        "Critério\tLoja Destaque:\n",
        "\n",
        "Mais Vantajosa\tLoja 1 🏅\n",
        "\n",
        "Menos Vantajosa\tLoja 4 ❌\n",
        "\n",
        "A ser vendida (recomendada)\tLoja 4 ❌\n",
        "\n",
        "A análise evidencia que a Loja 1 é a principal aposta para crescimento e estabilidade, enquanto a Loja 4 deve ser considerada para desinvestimento, maximizando assim o retorno global do portfólio de lojas do Sr. João."
      ],
      "metadata": {
        "id": "WJVW_u2yIPpM"
      }
    },
    {
      "cell_type": "code",
      "source": [],
      "metadata": {
        "id": "nSEy5d7mItBm"
      },
      "execution_count": null,
      "outputs": []
    }
  ]
}